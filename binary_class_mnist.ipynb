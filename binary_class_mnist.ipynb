{
 "cells": [
  {
   "cell_type": "code",
   "execution_count": 24,
   "id": "aa39ddac",
   "metadata": {},
   "outputs": [],
   "source": [
    "import tensorflow.compat.v1 as tf\n",
    "tf.disable_v2_behavior()"
   ]
  },
  {
   "cell_type": "code",
   "execution_count": 25,
   "id": "8c7e2fa1",
   "metadata": {},
   "outputs": [
    {
     "data": {
      "text/plain": [
       "{'__header__': b'MATLAB 5.0 MAT-file Platform: posix, Created on: Sun Mar 30 03:19:02 2014',\n",
       " '__version__': '1.0',\n",
       " '__globals__': [],\n",
       " 'mldata_descr_ordering': array([[array(['label'], dtype='<U5'), array(['data'], dtype='<U4')]],\n",
       "       dtype=object),\n",
       " 'data': array([[0, 0, 0, ..., 0, 0, 0],\n",
       "        [0, 0, 0, ..., 0, 0, 0],\n",
       "        [0, 0, 0, ..., 0, 0, 0],\n",
       "        ...,\n",
       "        [0, 0, 0, ..., 0, 0, 0],\n",
       "        [0, 0, 0, ..., 0, 0, 0],\n",
       "        [0, 0, 0, ..., 0, 0, 0]], dtype=uint8),\n",
       " 'label': array([[0., 0., 0., ..., 9., 9., 9.]])}"
      ]
     },
     "execution_count": 25,
     "metadata": {},
     "output_type": "execute_result"
    }
   ],
   "source": [
    "from scipy.io import loadmat\n",
    "import numpy as np\n",
    "mnist=loadmat(r\"C:\\Users\\archa\\OneDrive\\Desktop\\Downloads\\mnist-original.mat\")\n",
    "mnist"
   ]
  },
  {
   "cell_type": "code",
   "execution_count": 26,
   "id": "08a13847",
   "metadata": {},
   "outputs": [
    {
     "data": {
      "text/plain": [
       "(784, 70000)"
      ]
     },
     "execution_count": 26,
     "metadata": {},
     "output_type": "execute_result"
    }
   ],
   "source": [
    "data=mnist['data']\n",
    "data.shape"
   ]
  },
  {
   "cell_type": "code",
   "execution_count": 27,
   "id": "9f3652c6",
   "metadata": {},
   "outputs": [
    {
     "data": {
      "text/plain": [
       "(1, 70000)"
      ]
     },
     "execution_count": 27,
     "metadata": {},
     "output_type": "execute_result"
    }
   ],
   "source": [
    "label=mnist['label']\n",
    "label.shape"
   ]
  },
  {
   "cell_type": "code",
   "execution_count": 28,
   "id": "ac2db69e",
   "metadata": {},
   "outputs": [
    {
     "data": {
      "text/plain": [
       "(70000, 784)"
      ]
     },
     "execution_count": 28,
     "metadata": {},
     "output_type": "execute_result"
    }
   ],
   "source": [
    "x=mnist['data'].T\n",
    "x.shape"
   ]
  },
  {
   "cell_type": "code",
   "execution_count": 29,
   "id": "1d0f0c90",
   "metadata": {},
   "outputs": [
    {
     "data": {
      "text/plain": [
       "(70000,)"
      ]
     },
     "execution_count": 29,
     "metadata": {},
     "output_type": "execute_result"
    }
   ],
   "source": [
    "y=mnist['label'][0]\n",
    "y.shape"
   ]
  },
  {
   "cell_type": "code",
   "execution_count": 30,
   "id": "9a013597",
   "metadata": {},
   "outputs": [
    {
     "data": {
      "text/plain": [
       "array([0., 0., 0., ..., 9., 9., 9.])"
      ]
     },
     "execution_count": 30,
     "metadata": {},
     "output_type": "execute_result"
    }
   ],
   "source": [
    "y"
   ]
  },
  {
   "cell_type": "code",
   "execution_count": 31,
   "id": "cd73c019",
   "metadata": {},
   "outputs": [],
   "source": [
    "xtrain=x[np.any([y==1,y==2],axis=0)]\n",
    "ytrain=y[np.any([y==1,y==2],axis=0)]"
   ]
  },
  {
   "cell_type": "code",
   "execution_count": 32,
   "id": "13e87f0c",
   "metadata": {},
   "outputs": [
    {
     "name": "stdout",
     "output_type": "stream",
     "text": [
      "[[0 0 0 ... 0 0 0]\n",
      " [0 0 0 ... 0 0 0]\n",
      " [0 0 0 ... 0 0 0]\n",
      " ...\n",
      " [0 0 0 ... 0 0 0]\n",
      " [0 0 0 ... 0 0 0]\n",
      " [0 0 0 ... 0 0 0]]\n"
     ]
    }
   ],
   "source": [
    "print(xtrain)"
   ]
  },
  {
   "cell_type": "code",
   "execution_count": 33,
   "id": "41818576",
   "metadata": {},
   "outputs": [
    {
     "data": {
      "text/plain": [
       "(14867, 784)"
      ]
     },
     "execution_count": 33,
     "metadata": {},
     "output_type": "execute_result"
    }
   ],
   "source": [
    "xtrain.shape"
   ]
  },
  {
   "cell_type": "code",
   "execution_count": 34,
   "id": "ef3d4248",
   "metadata": {},
   "outputs": [
    {
     "name": "stdout",
     "output_type": "stream",
     "text": [
      "[1. 1. 1. ... 2. 2. 2.]\n"
     ]
    },
    {
     "data": {
      "text/plain": [
       "(14867,)"
      ]
     },
     "execution_count": 34,
     "metadata": {},
     "output_type": "execute_result"
    }
   ],
   "source": [
    "print(ytrain)\n",
    "ytrain.shape"
   ]
  },
  {
   "cell_type": "code",
   "execution_count": 35,
   "id": "526bb447",
   "metadata": {},
   "outputs": [
    {
     "name": "stdout",
     "output_type": "stream",
     "text": [
      "(784, 14867)\n"
     ]
    }
   ],
   "source": [
    "#normalising the data set\n",
    "xtrain=xtrain/255.0\n",
    "xtrain=xtrain.T\n",
    "print(xtrain.shape)"
   ]
  },
  {
   "cell_type": "code",
   "execution_count": 36,
   "id": "eaff87e9",
   "metadata": {},
   "outputs": [
    {
     "data": {
      "text/plain": [
       "784"
      ]
     },
     "execution_count": 36,
     "metadata": {},
     "output_type": "execute_result"
    }
   ],
   "source": [
    "ndim=xtrain.shape[0]\n",
    "ndim"
   ]
  },
  {
   "cell_type": "code",
   "execution_count": 37,
   "id": "84cdf411",
   "metadata": {},
   "outputs": [
    {
     "data": {
      "text/plain": [
       "(1, 14867)"
      ]
     },
     "execution_count": 37,
     "metadata": {},
     "output_type": "execute_result"
    }
   ],
   "source": [
    "ytrain=ytrain.reshape(1,ytrain.shape[0])\n",
    "ytrain.shape"
   ]
  },
  {
   "cell_type": "code",
   "execution_count": 38,
   "id": "bdb215c1",
   "metadata": {},
   "outputs": [
    {
     "data": {
      "text/plain": [
       "array([[0., 0., 0., ..., 1., 1., 1.]])"
      ]
     },
     "execution_count": 38,
     "metadata": {},
     "output_type": "execute_result"
    }
   ],
   "source": [
    "ytrain=ytrain-1\n",
    "ytrain"
   ]
  },
  {
   "cell_type": "code",
   "execution_count": 41,
   "id": "a8fff986",
   "metadata": {},
   "outputs": [],
   "source": [
    "tf.reset_default_graph()\n",
    "x=tf.placeholder(tf.float32,[ndim,None])\n",
    "y=tf.placeholder(tf.float32,[1,None])\n",
    "learning_rate=tf.placeholder(tf.float32,shape=())\n",
    "w=tf.Variable(tf.zeros([1,ndim]))\n",
    "b=tf.Variable(tf.zeros(1))\n",
    "init=tf.global_variables_initializer()\n",
    "y_=tf.sigmoid(tf.matmul(w,x)+b)\n",
    "cost=-tf.reduce_mean(y*tf.log(y_)+(1-y)*tf.log(1-y_))\n",
    "training_step=tf.train.GradientDescentOptimizer(learning_rate).minimize(cost)"
   ]
  },
  {
   "cell_type": "code",
   "execution_count": 42,
   "id": "afb39c7b",
   "metadata": {},
   "outputs": [],
   "source": [
    "def run_logistic_model(learning_r,training_epocs,train_obs,train_labels,debug=False):\n",
    "    sess=tf.Session()\n",
    "    sess.run(init)\n",
    "    cost_history=np.empty(shape=[0],dtype=float)\n",
    "    for epoch in range(training_epocs+1):\n",
    "        sess.run(training_step,feed_dict={x:train_obs,y:train_labels,learning_rate:learning_r})\n",
    "        cost_=sess.run(cost,feed_dict={x:train_obs,y:train_labels})\n",
    "        cost_history=np.append(cost_history,cost_)\n",
    "        if (epoch % 500==0) & debug:\n",
    "            print('reached epoch',epoch,' cost j',cost_)\n",
    "    return sess,cost_history"
   ]
  },
  {
   "cell_type": "code",
   "execution_count": 43,
   "id": "6462fa58",
   "metadata": {},
   "outputs": [
    {
     "name": "stdout",
     "output_type": "stream",
     "text": [
      "reached epoch 0  cost j 0.6785402\n",
      "reached epoch 500  cost j 0.10848413\n",
      "reached epoch 1000  cost j 0.07872986\n",
      "reached epoch 1500  cost j 0.06656062\n"
     ]
    }
   ],
   "source": [
    "sess,cost_history=run_logistic_model(learning_r=0.01,training_epocs=1500,train_obs=xtrain,train_labels=ytrain,debug=True)"
   ]
  },
  {
   "cell_type": "code",
   "execution_count": 44,
   "id": "1982c998",
   "metadata": {},
   "outputs": [
    {
     "name": "stdout",
     "output_type": "stream",
     "text": [
      "Tensor(\"Equal_1:0\", shape=(1, ?), dtype=bool)\n"
     ]
    }
   ],
   "source": [
    "correct_prediction=tf.equal(tf.greater(y_,0.5),tf.equal(y,1))\n",
    "print(correct_prediction)"
   ]
  },
  {
   "cell_type": "code",
   "execution_count": 46,
   "id": "7b62f9ef",
   "metadata": {},
   "outputs": [
    {
     "name": "stdout",
     "output_type": "stream",
     "text": [
      "[[ True  True  True ...  True  True  True]]\n"
     ]
    }
   ],
   "source": [
    "print(sess.run(correct_prediction,feed_dict={x:xtrain,y:ytrain}))"
   ]
  },
  {
   "cell_type": "code",
   "execution_count": 48,
   "id": "c7c576ae",
   "metadata": {},
   "outputs": [
    {
     "name": "stdout",
     "output_type": "stream",
     "text": [
      "0.9854712\n"
     ]
    }
   ],
   "source": [
    "accuracy=tf.reduce_mean(tf.cast(correct_prediction,tf.float32))\n",
    "print(sess.run(accuracy,feed_dict={x:xtrain,y:ytrain}))"
   ]
  },
  {
   "cell_type": "code",
   "execution_count": 49,
   "id": "043dc4d4",
   "metadata": {},
   "outputs": [],
   "source": [
    "threshold=0.5"
   ]
  },
  {
   "cell_type": "code",
   "execution_count": 50,
   "id": "f28b0723",
   "metadata": {},
   "outputs": [],
   "source": [
    "predictions=tf.cast(tf.greater_equal(y_,threshold),tf.int32)"
   ]
  },
  {
   "cell_type": "code",
   "execution_count": 56,
   "id": "45471970",
   "metadata": {},
   "outputs": [],
   "source": [
    "accuracy=tf.reduce_mean(tf.cast(correct_prediction,tf.float32))"
   ]
  },
  {
   "cell_type": "code",
   "execution_count": 57,
   "id": "99b10d4b",
   "metadata": {},
   "outputs": [
    {
     "name": "stdout",
     "output_type": "stream",
     "text": [
      "0.9854712\n"
     ]
    }
   ],
   "source": [
    "print(sess.run(accuracy,feed_dict={x:xtrain,y:ytrain}))"
   ]
  },
  {
   "cell_type": "code",
   "execution_count": null,
   "id": "c42031fc",
   "metadata": {},
   "outputs": [],
   "source": []
  }
 ],
 "metadata": {
  "kernelspec": {
   "display_name": "Python 3 (ipykernel)",
   "language": "python",
   "name": "python3"
  },
  "language_info": {
   "codemirror_mode": {
    "name": "ipython",
    "version": 3
   },
   "file_extension": ".py",
   "mimetype": "text/x-python",
   "name": "python",
   "nbconvert_exporter": "python",
   "pygments_lexer": "ipython3",
   "version": "3.11.5"
  }
 },
 "nbformat": 4,
 "nbformat_minor": 5
}
